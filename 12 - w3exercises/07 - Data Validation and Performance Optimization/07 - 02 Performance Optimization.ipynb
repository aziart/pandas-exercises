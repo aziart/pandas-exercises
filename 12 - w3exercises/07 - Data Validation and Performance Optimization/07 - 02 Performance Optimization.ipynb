{
 "cells": [
  {
   "cell_type": "markdown",
   "id": "e2c9494b",
   "metadata": {},
   "source": [
    "[Pandas Data Validation](https://www.w3resource.com/python-exercises/pandas/pandas-data-validation.php)"
   ]
  },
  {
   "cell_type": "code",
   "execution_count": 1,
   "id": "adc0f743",
   "metadata": {},
   "outputs": [],
   "source": [
    "import pandas as pd\n",
    "import numpy as np\n",
    "import time\n",
    "\n",
    "pd.set_option('display.max_columns', None)"
   ]
  },
  {
   "cell_type": "markdown",
   "id": "2cc9b02f",
   "metadata": {},
   "source": [
    "<div class=\"alert alert-warning\">\n",
    "\n",
    "**1. Large DataFrame Sum Performance**\n",
    "\n",
    "**Write a Pandas program to create a large DataFrame and measure the time taken to sum a column using a for loop vs. using the sum method.**\n",
    "\n",
    "</div>"
   ]
  },
  {
   "cell_type": "code",
   "execution_count": 2,
   "id": "6717376b",
   "metadata": {},
   "outputs": [
    {
     "data": {
      "text/html": [
       "<div>\n",
       "<style scoped>\n",
       "    .dataframe tbody tr th:only-of-type {\n",
       "        vertical-align: middle;\n",
       "    }\n",
       "\n",
       "    .dataframe tbody tr th {\n",
       "        vertical-align: top;\n",
       "    }\n",
       "\n",
       "    .dataframe thead th {\n",
       "        text-align: right;\n",
       "    }\n",
       "</style>\n",
       "<table border=\"1\" class=\"dataframe\">\n",
       "  <thead>\n",
       "    <tr style=\"text-align: right;\">\n",
       "      <th></th>\n",
       "      <th>Values</th>\n",
       "    </tr>\n",
       "  </thead>\n",
       "  <tbody>\n",
       "    <tr>\n",
       "      <th>0</th>\n",
       "      <td>45</td>\n",
       "    </tr>\n",
       "    <tr>\n",
       "      <th>1</th>\n",
       "      <td>48</td>\n",
       "    </tr>\n",
       "    <tr>\n",
       "      <th>2</th>\n",
       "      <td>65</td>\n",
       "    </tr>\n",
       "    <tr>\n",
       "      <th>3</th>\n",
       "      <td>68</td>\n",
       "    </tr>\n",
       "    <tr>\n",
       "      <th>4</th>\n",
       "      <td>68</td>\n",
       "    </tr>\n",
       "    <tr>\n",
       "      <th>...</th>\n",
       "      <td>...</td>\n",
       "    </tr>\n",
       "    <tr>\n",
       "      <th>999995</th>\n",
       "      <td>70</td>\n",
       "    </tr>\n",
       "    <tr>\n",
       "      <th>999996</th>\n",
       "      <td>41</td>\n",
       "    </tr>\n",
       "    <tr>\n",
       "      <th>999997</th>\n",
       "      <td>93</td>\n",
       "    </tr>\n",
       "    <tr>\n",
       "      <th>999998</th>\n",
       "      <td>62</td>\n",
       "    </tr>\n",
       "    <tr>\n",
       "      <th>999999</th>\n",
       "      <td>19</td>\n",
       "    </tr>\n",
       "  </tbody>\n",
       "</table>\n",
       "<p>1000000 rows × 1 columns</p>\n",
       "</div>"
      ],
      "text/plain": [
       "        Values\n",
       "0           45\n",
       "1           48\n",
       "2           65\n",
       "3           68\n",
       "4           68\n",
       "...        ...\n",
       "999995      70\n",
       "999996      41\n",
       "999997      93\n",
       "999998      62\n",
       "999999      19\n",
       "\n",
       "[1000000 rows x 1 columns]"
      ]
     },
     "execution_count": 2,
     "metadata": {},
     "output_type": "execute_result"
    }
   ],
   "source": [
    "# Create a large DataFrame with random integers\n",
    "np.random.seed(0)  # Set seed for reproducibility\n",
    "data = np.random.randint(1, 100, size=(1000000, 1))  # Generate random data\n",
    "df = pd.DataFrame(data, columns=['Values'])  # Create a DataFrame\n",
    "df"
   ]
  },
  {
   "cell_type": "markdown",
   "id": "a2ed6a5a",
   "metadata": {},
   "source": [
    "<div class=\"alert alert-success\">\n",
    "\n",
    "**Solution 01:**\n",
    "</div>"
   ]
  },
  {
   "cell_type": "code",
   "execution_count": 3,
   "id": "9447a2b4",
   "metadata": {},
   "outputs": [
    {
     "name": "stdout",
     "output_type": "stream",
     "text": [
      "Sum using for loop: 49988718\n",
      "Time taken using for loop: 0.07598209381103516 seconds\n",
      "Sum using sum method: 49988718\n",
      "Time taken using sum method: 0.00023889541625976562 seconds\n"
     ]
    }
   ],
   "source": [
    "# 1. Large DataFrame Sum Performance\n",
    "# Write a Pandas program to create a large DataFrame and measure the time taken to sum a column using a for loop vs. using the sum method.\n",
    "\n",
    "# Measure the time taken to sum the column using a for loop\n",
    "start_time = time.time()  # Record the start time\n",
    "sum_for_loop = 0  # Initialize the sum variable\n",
    "for value in df['Values']:  # Iterate through each value in the column\n",
    "    sum_for_loop += value  # Add the value to the sum variable\n",
    "time_for_loop = time.time() - start_time  # Calculate the time taken\n",
    "\n",
    "# Measure the time taken to sum the column using the sum method\n",
    "start_time = time.time()  # Record the start time\n",
    "sum_method = df['Values'].sum()  # Use the sum method to calculate the sum\n",
    "time_sum_method = time.time() - start_time  # Calculate the time taken\n",
    "\n",
    "# Print the results\n",
    "print(\"Sum using for loop:\", sum_for_loop)\n",
    "print(\"Time taken using for loop:\", time_for_loop, \"seconds\")\n",
    "print(\"Sum using sum method:\", sum_method)\n",
    "print(\"Time taken using sum method:\", time_sum_method, \"seconds\")"
   ]
  },
  {
   "cell_type": "markdown",
   "id": "a0114f93",
   "metadata": {},
   "source": [
    "<div class=\"alert alert-warning\">\n",
    "\n",
    "**2. Custom Function: Apply vs. Vectorized Operations**\n",
    "\n",
    "**Write a Pandas program to compare the performance of applying a custom function to a column using apply vs. using vectorized operations.**\n",
    "\n",
    "</div>"
   ]
  },
  {
   "cell_type": "code",
   "execution_count": 4,
   "id": "ad55d367",
   "metadata": {},
   "outputs": [
    {
     "data": {
      "text/html": [
       "<div>\n",
       "<style scoped>\n",
       "    .dataframe tbody tr th:only-of-type {\n",
       "        vertical-align: middle;\n",
       "    }\n",
       "\n",
       "    .dataframe tbody tr th {\n",
       "        vertical-align: top;\n",
       "    }\n",
       "\n",
       "    .dataframe thead th {\n",
       "        text-align: right;\n",
       "    }\n",
       "</style>\n",
       "<table border=\"1\" class=\"dataframe\">\n",
       "  <thead>\n",
       "    <tr style=\"text-align: right;\">\n",
       "      <th></th>\n",
       "      <th>Values</th>\n",
       "    </tr>\n",
       "  </thead>\n",
       "  <tbody>\n",
       "    <tr>\n",
       "      <th>0</th>\n",
       "      <td>45</td>\n",
       "    </tr>\n",
       "    <tr>\n",
       "      <th>1</th>\n",
       "      <td>48</td>\n",
       "    </tr>\n",
       "    <tr>\n",
       "      <th>2</th>\n",
       "      <td>65</td>\n",
       "    </tr>\n",
       "    <tr>\n",
       "      <th>3</th>\n",
       "      <td>68</td>\n",
       "    </tr>\n",
       "    <tr>\n",
       "      <th>4</th>\n",
       "      <td>68</td>\n",
       "    </tr>\n",
       "    <tr>\n",
       "      <th>...</th>\n",
       "      <td>...</td>\n",
       "    </tr>\n",
       "    <tr>\n",
       "      <th>999995</th>\n",
       "      <td>70</td>\n",
       "    </tr>\n",
       "    <tr>\n",
       "      <th>999996</th>\n",
       "      <td>41</td>\n",
       "    </tr>\n",
       "    <tr>\n",
       "      <th>999997</th>\n",
       "      <td>93</td>\n",
       "    </tr>\n",
       "    <tr>\n",
       "      <th>999998</th>\n",
       "      <td>62</td>\n",
       "    </tr>\n",
       "    <tr>\n",
       "      <th>999999</th>\n",
       "      <td>19</td>\n",
       "    </tr>\n",
       "  </tbody>\n",
       "</table>\n",
       "<p>1000000 rows × 1 columns</p>\n",
       "</div>"
      ],
      "text/plain": [
       "        Values\n",
       "0           45\n",
       "1           48\n",
       "2           65\n",
       "3           68\n",
       "4           68\n",
       "...        ...\n",
       "999995      70\n",
       "999996      41\n",
       "999997      93\n",
       "999998      62\n",
       "999999      19\n",
       "\n",
       "[1000000 rows x 1 columns]"
      ]
     },
     "execution_count": 4,
     "metadata": {},
     "output_type": "execute_result"
    }
   ],
   "source": [
    "# Create a large DataFrame with random integers\n",
    "np.random.seed(0)  # Set seed for reproducibility\n",
    "data = np.random.randint(1, 100, size=(1000000, 1))  # Generate random data\n",
    "df = pd.DataFrame(data, columns=['Values'])  # Create a DataFrame\n",
    "df"
   ]
  },
  {
   "cell_type": "markdown",
   "id": "35bd31fb",
   "metadata": {},
   "source": [
    "<div class=\"alert alert-success\">\n",
    "\n",
    "**Solution 02:**\n",
    "</div>"
   ]
  },
  {
   "cell_type": "code",
   "execution_count": 5,
   "id": "8d4e93de",
   "metadata": {},
   "outputs": [
    {
     "name": "stdout",
     "output_type": "stream",
     "text": [
      "Time taken using apply: 0.11509490013122559 seconds\n",
      "Time taken using vectorized operations: 0.0015702247619628906 seconds\n"
     ]
    }
   ],
   "source": [
    "# 2. Custom Function: Apply vs. Vectorized Operations\n",
    "# Write a Pandas program to compare the performance of applying a custom function to a column using apply vs. using vectorized operations.\n",
    "\n",
    "# Define a custom function to apply\n",
    "def custom_function(x):\n",
    "    return x * 2 + 3\n",
    "\n",
    "# Measure the time taken to apply the custom function using apply\n",
    "start_time = time.time()  # Record the start time\n",
    "df['Apply_Result'] = df['Values'].apply(custom_function)  # Apply the custom function using apply\n",
    "time_apply = time.time() - start_time  # Calculate the time taken\n",
    "\n",
    "# Measure the time taken to apply the custom function using vectorized operations\n",
    "start_time = time.time()  # Record the start time\n",
    "df['Vectorized_Result'] = custom_function(df['Values'])  # Apply the custom function using vectorized operations\n",
    "time_vectorized = time.time() - start_time  # Calculate the time taken\n",
    "\n",
    "# Print the time taken for both methods\n",
    "print(\"Time taken using apply:\", time_apply, \"seconds\")\n",
    "print(\"Time taken using vectorized operations:\", time_vectorized, \"seconds\")"
   ]
  },
  {
   "cell_type": "code",
   "execution_count": null,
   "id": "156a826e",
   "metadata": {},
   "outputs": [],
   "source": []
  }
 ],
 "metadata": {
  "kernelspec": {
   "display_name": ".venv",
   "language": "python",
   "name": "python3"
  },
  "language_info": {
   "codemirror_mode": {
    "name": "ipython",
    "version": 3
   },
   "file_extension": ".py",
   "mimetype": "text/x-python",
   "name": "python",
   "nbconvert_exporter": "python",
   "pygments_lexer": "ipython3",
   "version": "3.12.6"
  }
 },
 "nbformat": 4,
 "nbformat_minor": 5
}
